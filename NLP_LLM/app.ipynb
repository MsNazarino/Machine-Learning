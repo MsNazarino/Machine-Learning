{
 "cells": [
  {
   "cell_type": "markdown",
   "id": "486ee379",
   "metadata": {},
   "source": [
    "#### <center> <p style = 'background-color:darkblue'><b>Task - 1</p> </center>"
   ]
  },
  {
   "cell_type": "code",
   "execution_count": 17,
   "id": "1f2032aa",
   "metadata": {},
   "outputs": [],
   "source": [
    "import nltk\n",
    "from nltk.tokenize import word_tokenize\n",
    "from nltk.corpus import stopwords\n",
    "from datasets import load_dataset"
   ]
  },
  {
   "cell_type": "code",
   "execution_count": 18,
   "id": "fb178cf9",
   "metadata": {},
   "outputs": [
    {
     "name": "stdout",
     "output_type": "stream",
     "text": [
      "Токенізований текст: ['Natural', 'language', 'processing', 'enables', 'machines', 'to', 'understand', 'human', 'language', '.']\n"
     ]
    },
    {
     "name": "stderr",
     "output_type": "stream",
     "text": [
      "[nltk_data] Downloading package punkt_tab to\n",
      "[nltk_data]     C:\\Users\\gnatu\\AppData\\Roaming\\nltk_data...\n",
      "[nltk_data]   Package punkt_tab is already up-to-date!\n"
     ]
    }
   ],
   "source": [
    "nltk.download('punkt_tab')\n",
    "texts = \"Natural language processing enables machines to understand human language.\"\n",
    "tokens = word_tokenize(texts)\n",
    "print(\"Токенізований текст:\", tokens)"
   ]
  },
  {
   "cell_type": "code",
   "execution_count": 19,
   "id": "ff0cd093",
   "metadata": {},
   "outputs": [
    {
     "name": "stderr",
     "output_type": "stream",
     "text": [
      "[nltk_data] Downloading package punkt to\n",
      "[nltk_data]     C:\\Users\\gnatu\\AppData\\Roaming\\nltk_data...\n",
      "[nltk_data]   Package punkt is already up-to-date!\n",
      "[nltk_data] Downloading package stopwords to\n",
      "[nltk_data]     C:\\Users\\gnatu\\AppData\\Roaming\\nltk_data...\n",
      "[nltk_data]   Package stopwords is already up-to-date!\n"
     ]
    }
   ],
   "source": [
    "# 🔹 Завантаження потрібних ресурсів\n",
    "nltk.download('punkt')\n",
    "nltk.download('stopwords')\n",
    "\n",
    "# 🔹 Стрімінг — не завантажує весь датасет одразу\n",
    "ds = load_dataset(\"agentlans/high-quality-english-sentences\", split=\"train\", streaming=True)"
   ]
  },
  {
   "cell_type": "code",
   "execution_count": 20,
   "id": "f564fdeb",
   "metadata": {},
   "outputs": [
    {
     "name": "stdout",
     "output_type": "stream",
     "text": [
      "Токенізований текст: ['natural', 'language', 'processing', 'enables', 'machines', 'to', 'understand', 'human', 'language', '.']\n"
     ]
    }
   ],
   "source": [
    "# 🔹 Вхідний текст\n",
    "texts = \"Natural language processing enables machines to understand human language.\"\n",
    "\n",
    "# 🔹 Токенізація\n",
    "tokens = word_tokenize(texts.lower())\n",
    "print(\"Токенізований текст:\", tokens)"
   ]
  },
  {
   "cell_type": "code",
   "execution_count": 21,
   "id": "1907d41c",
   "metadata": {},
   "outputs": [
    {
     "name": "stdout",
     "output_type": "stream",
     "text": [
      "🔸 Токени без стоп-слів:\n",
      "['natural', 'enables', 'understand', 'human']\n"
     ]
    }
   ],
   "source": [
    "# 🔹 Англійські стоп-слова\n",
    "stop_words = set(stopwords.words('english'))\n",
    "stop_words.update([\"language\", \"processing\", \"machines\"])\n",
    "\n",
    "# 🔹 Додаткові стоп-слова\n",
    "my_stopwords = {\n",
    "    \"the\", \"is\", \"and\", \"to\", \"in\", \"this\", \"language\", \"processing\"\n",
    "}\n",
    "\n",
    "# 🔹 Фільтрація: видаляємо стоп-слова і пунктуацію\n",
    "filtered_tokens = [word for word in tokens if word.isalpha() and word not in stop_words]\n",
    "\n",
    "print(\"🔸 Токени без стоп-слів:\")\n",
    "print(filtered_tokens)"
   ]
  },
  {
   "cell_type": "code",
   "execution_count": 30,
   "id": "4f049f61",
   "metadata": {},
   "outputs": [],
   "source": [
    "no_filtered_sentences = []\n",
    "\n",
    "for i, sample in enumerate(ds):\n",
    "    sentence = sample[\"text\"]\n",
    "    no_filtered_sentences.append(sentence)\n",
    "\n",
    "    if i >= 3000:  # ⚠️ Наприклад, обробити лише перші 10 тисяч речень\n",
    "        break\n",
    "\n",
    "# 🔹 Збереження у файл (опціонально)\n",
    "with open(\"no_filtered_sentences.txt\", \"w\", encoding=\"utf-8\") as f:\n",
    "    for sentence in no_filtered_sentences:\n",
    "        f.write(sentence + \"\\n\")\n"
   ]
  },
  {
   "cell_type": "code",
   "execution_count": 31,
   "id": "df26033a",
   "metadata": {},
   "outputs": [],
   "source": [
    "filtered_sentences = []\n",
    "\n",
    "for i, sample in enumerate(ds):\n",
    "    sentence = sample[\"text\"]\n",
    "    tokens_ds = word_tokenize(sentence.lower())\n",
    "    filtered = [w for w in tokens_ds if w.isalpha() and w not in stop_words]\n",
    "    filtered_sentences.append(filtered)\n",
    "\n",
    "    if i >= 3000:  # ⚠️ Наприклад, обробити лише перші 10 тисяч речень\n",
    "        break\n",
    "\n",
    "# 🔹 Збереження у файл (опціонально)\n",
    "with open(\"filtered_sentences.txt\", \"w\", encoding=\"utf-8\") as f:\n",
    "    for sentence in filtered_sentences:\n",
    "        f.write(\" \".join(sentence) + \"\\n\")"
   ]
  },
  {
   "cell_type": "markdown",
   "id": "ba9e0c37",
   "metadata": {},
   "source": [
    "#### <center> <p style = 'background-color:darkblue'><b>Task - 2</p> </center>"
   ]
  },
  {
   "cell_type": "code",
   "execution_count": 63,
   "id": "07a4f323",
   "metadata": {},
   "outputs": [
    {
     "name": "stdout",
     "output_type": "stream",
     "text": [
      "Вектор для слова 'human': [ 0.61854   0.11915  -0.46786   0.31368   1.0334    0.95964   0.87803\n",
      " -1.0346    1.6322    0.29347   0.80844  -0.058903  0.021251  0.40986\n",
      "  0.54443  -0.33311   0.53712  -0.35823   0.29374   0.090151 -0.92049\n",
      "  0.69386   0.39098  -0.64392   0.77831  -1.7215   -0.48393  -0.50327\n",
      " -0.22508   0.099192  3.2095   -0.31554  -0.71754  -1.6752   -1.3537\n",
      "  0.15195   0.054557 -0.1633   -0.027993  0.3917   -0.55007  -0.079205\n",
      "  0.63389   0.51446   0.70124   0.27638  -0.53445   0.064808 -0.21974\n",
      " -0.52048 ]\n"
     ]
    }
   ],
   "source": [
    "import numpy as np\n",
    "\n",
    "def load_glove_model(glove_file):\n",
    "    glove_model = {}\n",
    "    with open(glove_file, \"r\", encoding=\"utf-8\") as f:\n",
    "        for line in f:\n",
    "            split_line = line.split()\n",
    "            word = split_line[0]\n",
    "            embedding = np.array(split_line[1:], dtype=np.float32)\n",
    "            glove_model[word] = embedding\n",
    "    return glove_model\n",
    "\n",
    "glove_file = \"glove.6B.50d.txt\"  # Необхідно завантажити файл заздалегідь https://drive.google.com/file/d/1mN2Ee44z6CBkCW4QQ95gHHjQTaSk-fxM/view?usp=sharing\n",
    "glove_model = load_glove_model(glove_file)\n",
    "print(\"Вектор для слова 'human':\", glove_model.get(\"human\", \"Слово не знайдено\"))"
   ]
  },
  {
   "cell_type": "markdown",
   "id": "50d9783b",
   "metadata": {},
   "source": [
    "#### <center> <p style = 'background-color:darkblue'><b>Task - 3</p> </center>"
   ]
  },
  {
   "cell_type": "code",
   "execution_count": 67,
   "id": "05ef4c04",
   "metadata": {},
   "outputs": [
    {
     "name": "stdout",
     "output_type": "stream",
     "text": [
      "Косинусна подібність між словами 'question' та 'answer': 0.9242\n"
     ]
    }
   ],
   "source": [
    "from numpy.linalg import norm\n",
    "\n",
    "def cosine_similarity(vec1, vec2):\n",
    "    return np.dot(vec1, vec2) / (norm(vec1) * norm(vec2))\n",
    "\n",
    "# Вибір двох слів\n",
    "word1 = \"question\"\n",
    "word2 = \"answer\"\n",
    "\n",
    "vec1 = glove_model.get(word1)\n",
    "vec2 = glove_model.get(word2)\n",
    "\n",
    "if vec1 is not None and vec2 is not None:\n",
    "    similarity = cosine_similarity(vec1, vec2)\n",
    "    print(f\"Косинусна подібність між словами '{word1}' та '{word2}': {similarity:.4f}\")\n",
    "else:\n",
    "    print(\"Одне або обидва слова не знайдені у моделі.\")\n"
   ]
  },
  {
   "cell_type": "markdown",
   "id": "a4dbad27",
   "metadata": {},
   "source": []
  },
  {
   "cell_type": "markdown",
   "id": "34d67c5d",
   "metadata": {},
   "source": [
    "#### <center> <p style = 'background-color:darkblue'><b>Task - 4</p> </center>"
   ]
  },
  {
   "cell_type": "code",
   "execution_count": 61,
   "id": "ccabac4e",
   "metadata": {},
   "outputs": [
    {
     "name": "stdout",
     "output_type": "stream",
     "text": [
      "Схожі слова до 'woman':\n",
      "girl: 0.9065\n",
      "man: 0.8860\n",
      "mother: 0.8764\n",
      "her: 0.8613\n",
      "boy: 0.8596\n",
      "she: 0.8431\n",
      "herself: 0.8225\n",
      "child: 0.8108\n",
      "wife: 0.8037\n",
      "old: 0.7982\n"
     ]
    }
   ],
   "source": [
    "def find_similar_words(glove_model, query_word, top_n=10):\n",
    "    if query_word not in glove_model:\n",
    "        print(f\"Слово '{query_word}' не знайдено в моделі.\")\n",
    "        return []\n",
    "\n",
    "    query_vector = glove_model[query_word]\n",
    "    similarities = {}\n",
    "\n",
    "    for word, vector in glove_model.items():\n",
    "        if word != query_word:\n",
    "            sim = cosine_similarity(query_vector, vector)\n",
    "            similarities[word] = sim\n",
    "\n",
    "    # Сортуємо за подібністю та повертаємо топ-N\n",
    "    similar_words = sorted(similarities.items(), key=lambda item: item[1], reverse=True)[:top_n]\n",
    "\n",
    "    return similar_words\n",
    "\n",
    "# Використання:\n",
    "similar = find_similar_words(glove_model, \"woman\", top_n=10)\n",
    "print(\"Схожі слова до 'woman':\")\n",
    "for word, sim in similar:\n",
    "    print(f\"{word}: {sim:.4f}\")\n"
   ]
  },
  {
   "cell_type": "markdown",
   "id": "e2b91eb5",
   "metadata": {},
   "source": [
    "Під час лабораторної роботи було реалізовано програму, яка виконує основні етапи попередньої обробки тексту: токенізацію та видалення стоп-слів із використанням бібліотеки nltk. Для токенізації застосовано метод word_tokenize, а набір стоп-слів розширено власноруч, що дозволило краще відфільтрувати зайві слова з тексту.\n",
    "\n",
    "Дані були завантажені з англомовного датасету \"high-quality-english-sentences\" через бібліотеку datasets у стрімінговому режимі, що оптимізувало використання оперативної памʼяті.\n",
    "\n",
    "Після очищення тексту було сформовано корпус речень, на основі якого побудовано векторні представлення слів за допомогою моделі GloVe (Global Vectors for Word Representation). Хоча у завданні пропонувалось використати Word2Vec, обрано GloVe — що є цілком прийнятним, адже ця модель також є word-embedding підходом, але з відмінним математичним підґрунтям.\n",
    "\n",
    "За допомогою отриманих векторів було розраховано косинусну подібність між парами слів, що дало змогу оцінити їхню семантичну близькість у векторному просторі. Також знайдено слова, які найбільше схожі на задане, за допомогою функції пошуку найближчих векторів.\n",
    "\n",
    "У результаті виконання роботи отримано практичний досвід у:\n",
    "\n",
    "попередній обробці тексту;\n",
    "\n",
    "роботі з корпусами через стрімінг;\n",
    "\n",
    "побудові векторних уявлень слів;\n",
    "\n",
    "пошуку схожих слів у embedding-просторі."
   ]
  },
  {
   "cell_type": "markdown",
   "id": "edbf1727",
   "metadata": {},
   "source": []
  }
 ],
 "metadata": {
  "kernelspec": {
   "display_name": "Python 3",
   "language": "python",
   "name": "python3"
  },
  "language_info": {
   "codemirror_mode": {
    "name": "ipython",
    "version": 3
   },
   "file_extension": ".py",
   "mimetype": "text/x-python",
   "name": "python",
   "nbconvert_exporter": "python",
   "pygments_lexer": "ipython3",
   "version": "3.13.2"
  }
 },
 "nbformat": 4,
 "nbformat_minor": 5
}
