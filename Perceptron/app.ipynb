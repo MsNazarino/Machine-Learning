{
 "cells": [
  {
   "cell_type": "code",
   "execution_count": 1,
   "id": "469a88f5",
   "metadata": {},
   "outputs": [],
   "source": [
    "import torch\n",
    "import torch.nn as nn\n",
    "import torch.optim as optim\n",
    "from sklearn.model_selection import train_test_split\n",
    "from sklearn.preprocessing import StandardScaler\n",
    "from sklearn.metrics import accuracy_score, classification_report, roc_curve, auc\n",
    "import pandas as pd\n",
    "import matplotlib.pyplot as plt\n",
    "import numpy as np\n",
    "import seaborn as sns\n",
    "import os"
   ]
  },
  {
   "cell_type": "code",
   "execution_count": 2,
   "id": "be05dc4d",
   "metadata": {},
   "outputs": [
    {
     "name": "stdout",
     "output_type": "stream",
     "text": [
      "True\n"
     ]
    }
   ],
   "source": [
    "print(os.path.exists(\"variant1-mushrooms.csv\"))"
   ]
  },
  {
   "cell_type": "code",
   "execution_count": 3,
   "id": "704d9fe4",
   "metadata": {},
   "outputs": [],
   "source": [
    "data = pd.read_csv(\"variant1-mushrooms.csv\", encoding='latin1')"
   ]
  },
  {
   "cell_type": "code",
   "execution_count": 4,
   "id": "84b09b0c",
   "metadata": {},
   "outputs": [
    {
     "name": "stdout",
     "output_type": "stream",
     "text": [
      "cap-diameter       0\n",
      "cap-shape          0\n",
      "gill-attachment    0\n",
      "gill-color         0\n",
      "stem-height        0\n",
      "stem-width         0\n",
      "stem-color         0\n",
      "season             0\n",
      "class              0\n",
      "dtype: int64\n"
     ]
    }
   ],
   "source": [
    "print(data.isnull().sum())"
   ]
  },
  {
   "cell_type": "code",
   "execution_count": 5,
   "id": "d8a9e071",
   "metadata": {},
   "outputs": [
    {
     "name": "stdout",
     "output_type": "stream",
     "text": [
      "Розмір даних: (54035, 9)\n"
     ]
    }
   ],
   "source": [
    "print(\"Розмір даних:\", data.shape)"
   ]
  },
  {
   "cell_type": "code",
   "execution_count": 6,
   "id": "3d6b0914",
   "metadata": {},
   "outputs": [
    {
     "name": "stdout",
     "output_type": "stream",
     "text": [
      "columns count -  9 \n",
      "\n",
      "columns:  ['cap-diameter', 'cap-shape', 'gill-attachment', 'gill-color', 'stem-height', 'stem-width', 'stem-color', 'season', 'class']\n"
     ]
    }
   ],
   "source": [
    "print('columns count - ',len(data.columns), '\\n')\n",
    "print('columns: ',list(data.columns))"
   ]
  },
  {
   "cell_type": "code",
   "execution_count": 7,
   "id": "050c4fdd",
   "metadata": {},
   "outputs": [
    {
     "name": "stdout",
     "output_type": "stream",
     "text": [
      "cap-diameter dont have null data!\n",
      "cap-shape dont have null data!\n",
      "gill-attachment dont have null data!\n",
      "gill-color dont have null data!\n",
      "stem-height dont have null data!\n",
      "stem-width dont have null data!\n",
      "stem-color dont have null data!\n",
      "season dont have null data!\n",
      "class dont have null data!\n"
     ]
    }
   ],
   "source": [
    "missing = list()\n",
    "for x in data.columns:\n",
    "    if data[x].isnull().sum() != 0:\n",
    "        print(data, data[x].isnull().sum())\n",
    "        missing.append(x)\n",
    "    else:\n",
    "        print (x + \" dont have null data!\")"
   ]
  },
  {
   "cell_type": "code",
   "execution_count": 8,
   "id": "266596aa",
   "metadata": {},
   "outputs": [
    {
     "name": "stdout",
     "output_type": "stream",
     "text": [
      "<class 'pandas.core.frame.DataFrame'>\n",
      "RangeIndex: 54035 entries, 0 to 54034\n",
      "Data columns (total 9 columns):\n",
      " #   Column           Non-Null Count  Dtype  \n",
      "---  ------           --------------  -----  \n",
      " 0   cap-diameter     54035 non-null  int64  \n",
      " 1   cap-shape        54035 non-null  int64  \n",
      " 2   gill-attachment  54035 non-null  int64  \n",
      " 3   gill-color       54035 non-null  int64  \n",
      " 4   stem-height      54035 non-null  float64\n",
      " 5   stem-width       54035 non-null  int64  \n",
      " 6   stem-color       54035 non-null  int64  \n",
      " 7   season           54035 non-null  float64\n",
      " 8   class            54035 non-null  int64  \n",
      "dtypes: float64(2), int64(7)\n",
      "memory usage: 3.7 MB\n"
     ]
    }
   ],
   "source": [
    "data.info()"
   ]
  },
  {
   "cell_type": "code",
   "execution_count": 9,
   "id": "47842b04",
   "metadata": {},
   "outputs": [],
   "source": [
    "# Drop the ID column and separate features and target\n",
    "X = data.drop(columns=['class']).values \n",
    "y = data['class'].values"
   ]
  },
  {
   "cell_type": "code",
   "execution_count": 10,
   "id": "4e4ae232",
   "metadata": {},
   "outputs": [],
   "source": [
    "# Split the dataset into training and testing sets\n",
    "X_train, X_test, y_train, y_test = train_test_split(X, y, test_size=0.2, random_state=42)"
   ]
  },
  {
   "cell_type": "code",
   "execution_count": 11,
   "id": "9daa8d61",
   "metadata": {},
   "outputs": [
    {
     "data": {
      "text/html": [
       "<div>\n",
       "<style scoped>\n",
       "    .dataframe tbody tr th:only-of-type {\n",
       "        vertical-align: middle;\n",
       "    }\n",
       "\n",
       "    .dataframe tbody tr th {\n",
       "        vertical-align: top;\n",
       "    }\n",
       "\n",
       "    .dataframe thead th {\n",
       "        text-align: right;\n",
       "    }\n",
       "</style>\n",
       "<table border=\"1\" class=\"dataframe\">\n",
       "  <thead>\n",
       "    <tr style=\"text-align: right;\">\n",
       "      <th></th>\n",
       "      <th>cap-diameter</th>\n",
       "      <th>cap-shape</th>\n",
       "      <th>gill-attachment</th>\n",
       "      <th>gill-color</th>\n",
       "      <th>stem-height</th>\n",
       "      <th>stem-width</th>\n",
       "      <th>stem-color</th>\n",
       "      <th>season</th>\n",
       "      <th>class</th>\n",
       "    </tr>\n",
       "  </thead>\n",
       "  <tbody>\n",
       "    <tr>\n",
       "      <th>0</th>\n",
       "      <td>1372</td>\n",
       "      <td>2</td>\n",
       "      <td>2</td>\n",
       "      <td>10</td>\n",
       "      <td>3.807467</td>\n",
       "      <td>1545</td>\n",
       "      <td>11</td>\n",
       "      <td>1.804273</td>\n",
       "      <td>1</td>\n",
       "    </tr>\n",
       "    <tr>\n",
       "      <th>1</th>\n",
       "      <td>1461</td>\n",
       "      <td>2</td>\n",
       "      <td>2</td>\n",
       "      <td>10</td>\n",
       "      <td>3.807467</td>\n",
       "      <td>1557</td>\n",
       "      <td>11</td>\n",
       "      <td>1.804273</td>\n",
       "      <td>1</td>\n",
       "    </tr>\n",
       "    <tr>\n",
       "      <th>2</th>\n",
       "      <td>1371</td>\n",
       "      <td>2</td>\n",
       "      <td>2</td>\n",
       "      <td>10</td>\n",
       "      <td>3.612496</td>\n",
       "      <td>1566</td>\n",
       "      <td>11</td>\n",
       "      <td>1.804273</td>\n",
       "      <td>1</td>\n",
       "    </tr>\n",
       "    <tr>\n",
       "      <th>3</th>\n",
       "      <td>1261</td>\n",
       "      <td>6</td>\n",
       "      <td>2</td>\n",
       "      <td>10</td>\n",
       "      <td>3.787572</td>\n",
       "      <td>1566</td>\n",
       "      <td>11</td>\n",
       "      <td>1.804273</td>\n",
       "      <td>1</td>\n",
       "    </tr>\n",
       "    <tr>\n",
       "      <th>4</th>\n",
       "      <td>1305</td>\n",
       "      <td>6</td>\n",
       "      <td>2</td>\n",
       "      <td>10</td>\n",
       "      <td>3.711971</td>\n",
       "      <td>1464</td>\n",
       "      <td>11</td>\n",
       "      <td>0.943195</td>\n",
       "      <td>1</td>\n",
       "    </tr>\n",
       "  </tbody>\n",
       "</table>\n",
       "</div>"
      ],
      "text/plain": [
       "   cap-diameter  cap-shape  gill-attachment  gill-color  stem-height  \\\n",
       "0          1372          2                2          10     3.807467   \n",
       "1          1461          2                2          10     3.807467   \n",
       "2          1371          2                2          10     3.612496   \n",
       "3          1261          6                2          10     3.787572   \n",
       "4          1305          6                2          10     3.711971   \n",
       "\n",
       "   stem-width  stem-color    season  class  \n",
       "0        1545          11  1.804273      1  \n",
       "1        1557          11  1.804273      1  \n",
       "2        1566          11  1.804273      1  \n",
       "3        1566          11  1.804273      1  \n",
       "4        1464          11  0.943195      1  "
      ]
     },
     "execution_count": 11,
     "metadata": {},
     "output_type": "execute_result"
    }
   ],
   "source": [
    "data.head()"
   ]
  },
  {
   "cell_type": "code",
   "execution_count": 12,
   "id": "cbf88463",
   "metadata": {},
   "outputs": [],
   "source": [
    "# Standardize the feature values for better training performance\n",
    "scaler = StandardScaler()\n",
    "X_train_scaled = pd.DataFrame(scaler.fit_transform(X_train))\n",
    "X_test_scaled = pd.DataFrame(scaler.transform(X_test)) "
   ]
  },
  {
   "cell_type": "code",
   "execution_count": 13,
   "id": "69184855",
   "metadata": {},
   "outputs": [],
   "source": [
    "# Convert data to PyTorch tensors\n",
    "X_train_tensor = torch.tensor(X_train_scaled.values, dtype=torch.float32) # Training features as a tensor\n",
    "y_train_tensor = torch.tensor(y_train, dtype=torch.float32).unsqueeze(1) # Training labels as a tensor\n",
    "X_test_tensor = torch.tensor(X_test_scaled.values, dtype=torch.float32) # Testing features as a tensor\n",
    "y_test_tensor = torch.tensor(y_test, dtype=torch.float32).unsqueeze(1) # Testing labels as a tensor"
   ]
  },
  {
   "cell_type": "code",
   "execution_count": 14,
   "id": "91efb423",
   "metadata": {},
   "outputs": [],
   "source": [
    "# Define a simple Multi-Layer Perceptron (MLP) for binary classification\n",
    "class BinaryClassificationMLP(nn.Module):\n",
    "    def __init__(self, input_size, hidden_size, output_size):\n",
    "      super(BinaryClassificationMLP, self).__init__()\n",
    "      self.hidden_layer = nn.Linear(input_size, hidden_size) # First layer (input to hidden)\n",
    "      self.output_layer = nn.Linear(hidden_size, output_size) # Second layer (hidden to output)\n",
    "      self.relu = nn.ReLU() # ReLU activation function for hidden layer\n",
    "      self.sigmoid = nn.Sigmoid() # Sigmoid activation for output layer\n",
    "    def forward(self, x):\n",
    "      x = self.hidden_layer(x) # Linear transformation for the hidden layer\n",
    "      x = self.relu(x) # Apply ReLU activation\n",
    "      x = self.output_layer(x) # Linear transformation for the output layer\n",
    "      x = self.sigmoid(x) # Apply sigmoid activation for binary classification\n",
    "      return x"
   ]
  },
  {
   "cell_type": "code",
   "execution_count": 15,
   "id": "69a90685",
   "metadata": {},
   "outputs": [],
   "source": [
    "# Set hyperparameters\n",
    "input_size = X_train.shape[1] # Number of features in the dataset\n",
    "hidden_size = 22 # Number of neurons in the hidden layer\n",
    "output_size = 1 # Binary classification output\n",
    "learning_rate = 0.1 # Learning rate for the optimizer\n",
    "num_epochs = 10 # Number of epochs to train the model"
   ]
  },
  {
   "cell_type": "code",
   "execution_count": 16,
   "id": "0fd42185",
   "metadata": {},
   "outputs": [
    {
     "data": {
      "text/plain": [
       "Adam (\n",
       "Parameter Group 0\n",
       "    amsgrad: False\n",
       "    betas: (0.9, 0.999)\n",
       "    capturable: False\n",
       "    decoupled_weight_decay: False\n",
       "    differentiable: False\n",
       "    eps: 1e-08\n",
       "    foreach: None\n",
       "    fused: None\n",
       "    lr: 0.1\n",
       "    maximize: False\n",
       "    weight_decay: 0\n",
       ")"
      ]
     },
     "execution_count": 16,
     "metadata": {},
     "output_type": "execute_result"
    }
   ],
   "source": [
    "# Initialize the model, loss function, and optimizer\n",
    "model = BinaryClassificationMLP(input_size, hidden_size, output_size) # Create the model instance\n",
    "criterion = nn.BCELoss() # Binary Cross-Entropy Loss\n",
    "optimizer = optim.Adam(model.parameters(), lr=learning_rate) # Adam \n",
    "optimizer"
   ]
  },
  {
   "cell_type": "code",
   "execution_count": 17,
   "id": "ff8393c5",
   "metadata": {},
   "outputs": [],
   "source": [
    "# Metrics and logging\n",
    "losses = []\n",
    "accuracies = []"
   ]
  },
  {
   "cell_type": "code",
   "execution_count": 18,
   "id": "5b2454b6",
   "metadata": {},
   "outputs": [],
   "source": [
    "# Training loop\n",
    "model.train() # Set the model to training mode\n",
    "for epoch in range(num_epochs):\n",
    " # Forward pass: compute predictions\n",
    " outputs = model(X_train_tensor)\n",
    " # Compute the loss between predictions and actual labels\n",
    " loss = criterion(outputs, y_train_tensor)\n",
    " losses.append(loss.item())\n",
    " # Convert predictions to binary values (0 or 1)\n",
    " predictions = (outputs.detach().numpy() > 0.5).astype(int)\n",
    " y_train_numpy = y_train_tensor.numpy()\n",
    " accuracy = accuracy_score(y_train_numpy, predictions)\n",
    " accuracies.append(accuracy)\n",
    " # Backward pass: compute gradients and update weights\n",
    " optimizer.zero_grad() # Clear previous gradients\n",
    " loss.backward() # Compute gradients\n",
    " optimizer.step() # Update weights based on gradients\n",
    " # Print loss and accuracy every 100 epochs for monitoring\n",
    " if (epoch + 1) % 50 == 0:\n",
    "   print(f'Epoch [{epoch + 1}/{num_epochs}], Loss: {loss.item():.4f}, Accuracy: {accuracy * 100:.2f}%')\n"
   ]
  },
  {
   "cell_type": "code",
   "execution_count": 19,
   "id": "3ed8791d",
   "metadata": {},
   "outputs": [],
   "source": [
    "# Evaluate the model on the test dataset\n",
    "model.eval() # Set the model to evaluation mode\n",
    "\n",
    "with torch.no_grad(): # Disable gradient computation for evaluation\n",
    "    outputs = model(X_test_tensor) # Compute predictions\n",
    "    test_loss = criterion(outputs, y_test_tensor) # Compute the loss for the test set"
   ]
  },
  {
   "cell_type": "code",
   "execution_count": 20,
   "id": "76ba7399",
   "metadata": {},
   "outputs": [],
   "source": [
    "# Convert predictions to binary values (0 or 1)\n",
    "test_predictions = (outputs.numpy() > 0.5).astype(int)\n",
    "y_test_numpy = y_test_tensor.numpy()"
   ]
  },
  {
   "cell_type": "code",
   "execution_count": 21,
   "id": "4a6510f8",
   "metadata": {},
   "outputs": [
    {
     "name": "stdout",
     "output_type": "stream",
     "text": [
      "Test Loss: 0.5787\n",
      "Test Accuracy: 69.63%\n"
     ]
    }
   ],
   "source": [
    "# Compute metrics\n",
    "test_accuracy = accuracy_score(y_test_numpy, test_predictions)\n",
    "print(f'Test Loss: {test_loss.item():.4f}')\n",
    "print(f'Test Accuracy: {test_accuracy * 100:.2f}%')"
   ]
  },
  {
   "cell_type": "code",
   "execution_count": 22,
   "id": "7c886061",
   "metadata": {},
   "outputs": [
    {
     "name": "stdout",
     "output_type": "stream",
     "text": [
      "              precision    recall  f1-score   support\n",
      "\n",
      "     Class 0       0.66      0.67      0.67      4909\n",
      "     Class 1       0.72      0.72      0.72      5898\n",
      "\n",
      "    accuracy                           0.70     10807\n",
      "   macro avg       0.69      0.69      0.69     10807\n",
      "weighted avg       0.70      0.70      0.70     10807\n",
      "\n"
     ]
    }
   ],
   "source": [
    "# Generate a classification report\n",
    "print(classification_report(y_test_numpy, test_predictions, \n",
    "target_names=[\"Class 0\", \"Class 1\"]))"
   ]
  },
  {
   "cell_type": "code",
   "execution_count": 23,
   "id": "dbca9d62",
   "metadata": {},
   "outputs": [],
   "source": [
    "# Compute ROC curve and AUC\n",
    "y_probabilities = outputs.numpy() # Get predicted probabilities\n",
    "fpr, tpr, _ = roc_curve(y_test_numpy, y_probabilities)\n",
    "roc_auc = auc(fpr, tpr)"
   ]
  },
  {
   "cell_type": "code",
   "execution_count": 24,
   "id": "53009274",
   "metadata": {},
   "outputs": [
    {
     "data": {
      "image/png": "[encoded data removed]",
      "text/plain": [
       "<Figure size 700x500 with 1 Axes>"
      ]
     },
     "metadata": {},
     "output_type": "display_data"
    },
    {
     "data": {
      "image/png": "[encoded data removed]",
      "text/plain": [
       "<Figure size 1200x500 with 2 Axes>"
      ]
     },
     "metadata": {},
     "output_type": "display_data"
    }
   ],
   "source": [
    "# Plot ROC curve\n",
    "plt.figure(figsize=(7, 5))\n",
    "plt.plot(fpr, tpr, color='blue', lw=2, label=f'ROC curve (AUC = {roc_auc:.2f})')\n",
    "plt.plot([0, 1], [0, 1], color='gray', linestyle='--') # Diagonal line (random guess)\n",
    "plt.xlim([0.0, 1.0])\n",
    "plt.ylim([0.0, 1.05])\n",
    "plt.xlabel('False Positive Rate')\n",
    "plt.ylabel('True Positive Rate')\n",
    "plt.title('Receiver Operating Characteristic (ROC) Curve')\n",
    "plt.legend(loc='lower right')\n",
    "plt.show()\n",
    "\n",
    "# Plot loss and accuracy curves\n",
    "plt.figure(figsize=(12, 5))\n",
    "\n",
    "# Plot training loss\n",
    "plt.subplot(1, 2, 1)\n",
    "plt.plot(range(len(losses)), losses, label='Loss')\n",
    "plt.xlabel('Epochs')\n",
    "plt.ylabel('Loss')\n",
    "plt.title('Training Loss')\n",
    "plt.legend()\n",
    "\n",
    "# Plot training accuracy\n",
    "plt.subplot(1, 2, 2)\n",
    "plt.plot(range(len(accuracies)), accuracies, label='Accuracy', color='orange')\n",
    "plt.xlabel('Epochs')\n",
    "plt.ylabel('Accuracy')\n",
    "plt.title('Training Accuracy')\n",
    "plt.legend()\n",
    "plt.tight_layout()\n",
    "plt.show()"
   ]
  },
  {
   "cell_type": "markdown",
   "id": "72eb2942",
   "metadata": {},
   "source": [
    "|  № | Нейронів у прих. шарі | Learning rate | Epochs | Test Accuracy | F1-score |  ROC AUC |  Loss |\n",
    "| -: | :-------------------: | :-----------: | :----: | :-----------: | :------: | :------: | :---: |\n",
    "|  1 |           5           |     0.001     |   100  |   **63.74%**  |  \\~0.64  | **0.69** | 0.653 |\n",
    "|  2 |           22          |      0.1      |   10   |   **68.68%**  |  \\~0.69  | **0.76** | 0.579 |\n",
    "|  3 |           45          |      0.01     |  1000  |   **96.00%**  |  \\~0.96  | **0.99** | 0.112 |\n"
   ]
  }
 ],
 "metadata": {
  "kernelspec": {
   "display_name": "Python 3",
   "language": "python",
   "name": "python3"
  },
  "language_info": {
   "codemirror_mode": {
    "name": "ipython",
    "version": 3
   },
   "file_extension": ".py",
   "mimetype": "text/x-python",
   "name": "python",
   "nbconvert_exporter": "python",
   "pygments_lexer": "ipython3",
   "version": "3.13.2"
  }
 },
 "nbformat": 4,
 "nbformat_minor": 5
}
